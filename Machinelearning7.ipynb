{
 "cells": [
  {
   "cell_type": "raw",
   "id": "818ce941-b46c-456e-8286-3b16a835bfa9",
   "metadata": {},
   "source": [
    "1=\n",
    "The Pearson correlation coefficient is a statistical measure that quantifies the strength and direction of a linear relationship between two continuous variables. It ranges from -1 to 1, where:\n",
    "\n",
    "1 indicates a perfect positive linear correlation (as one variable increases, the other increases proportionally).\n",
    "-1 indicates a perfect negative linear correlation (as one variable increases, the other decreases proportionally).\n",
    "0 indicates no linear correlation (there is no consistent relationship between the variables).\n",
    "To calculate the Pearson correlation coefficient between the amount of time students spend studying for an exam and their final exam scores, you would need the data points for both variables.\n",
    "\n",
    "Interpretation of the Result:\n",
    "\n",
    "A positive Pearson correlation coefficient indicates that there is a positive linear relationship between the two variables. In this context, it means that as the amount of time students spend studying increases, their final exam scores tend to increase as well.\n",
    "\n",
    "A negative Pearson correlation coefficient would suggest a negative linear relationship, indicating that as the study time increases, the exam scores tend to decrease.\n",
    "\n",
    "A Pearson correlation coefficient close to 0 suggests little to no linear relationship between the two variables.\n",
    "\n",
    "Remember that correlation does not imply causation. While a strong correlation between study time and exam scores may suggest a relationship, it doesn't prove that studying causes higher scores. Other factors could be influencing the results.\n",
    "\n",
    "To calculate the Pearson correlation coefficient in Python, you can use libraries like NumPy or SciPy:"
   ]
  },
  {
   "cell_type": "code",
   "execution_count": 1,
   "id": "f183d2d2-621c-4d39-811f-3f9d06409f1c",
   "metadata": {},
   "outputs": [
    {
     "name": "stdout",
     "output_type": "stream",
     "text": [
      "Pearson Correlation Coefficient: 0.9863939238321439\n"
     ]
    }
   ],
   "source": [
    "#1=\n",
    "import numpy as np\n",
    "\n",
    "# Example data (replace with your actual data)\n",
    "study_time = [5, 10, 15, 20, 25]\n",
    "exam_scores = [75, 85, 90, 95, 100]\n",
    "\n",
    "# Calculate the Pearson correlation coefficient\n",
    "pearson_corr_coefficient = np.corrcoef(study_time, exam_scores)[0, 1]\n",
    "\n",
    "# Print the result\n",
    "print(\"Pearson Correlation Coefficient:\", pearson_corr_coefficient)\n"
   ]
  },
  {
   "cell_type": "raw",
   "id": "742f83e1-04af-436f-b91b-d7ae46ed4ea3",
   "metadata": {},
   "source": [
    "2=\n",
    "Spearman's rank correlation is a statistical measure that assesses the strength and direction of the monotonic relationship (not necessarily linear) between two variables. It's particularly useful when the relationship between variables is not linear but follows a consistent trend, such as one variable increasing while the other variable either increases or decreases.\n",
    "\n",
    "The Spearman's rank correlation coefficient also ranges from -1 to 1, similar to the Pearson correlation coefficient, but it's based on the ranks of the data points rather than their actual values.\n",
    "\n",
    "Interpretation of the Result:\n",
    "\n",
    "A positive Spearman's rank correlation coefficient indicates a positive monotonic relationship between the two variables. In the context of your data (amount of sleep and job satisfaction), it would mean that individuals who get more sleep tend to have higher job satisfaction levels.\n",
    "\n",
    "A negative Spearman's rank correlation coefficient suggests a negative monotonic relationship, indicating that individuals who get more sleep tend to have lower job satisfaction levels.\n",
    "\n",
    "A Spearman's rank correlation coefficient close to 0 implies little to no monotonic relationship between the two variables.\n",
    "\n",
    "Unlike the Pearson correlation coefficient, Spearman's rank correlation is not limited to linear relationships and can capture various types of trends.\n",
    "\n",
    "To calculate Spearman's rank correlation coefficient in Python, you can use libraries like SciPy:"
   ]
  },
  {
   "cell_type": "code",
   "execution_count": 2,
   "id": "7c998d4b-3a81-4875-8db1-fe6beed1706e",
   "metadata": {},
   "outputs": [
    {
     "name": "stdout",
     "output_type": "stream",
     "text": [
      "Spearman's Rank Correlation Coefficient: 0.9746794344808963\n"
     ]
    }
   ],
   "source": [
    "#2=\n",
    "from scipy.stats import spearmanr\n",
    "\n",
    "# Example data (replace with your actual data)\n",
    "sleep_amount = [7, 6, 8, 5, 7]\n",
    "job_satisfaction = [8, 6, 9, 5, 7]\n",
    "\n",
    "# Calculate the Spearman's rank correlation coefficient\n",
    "spearman_corr_coefficient, _ = spearmanr(sleep_amount, job_satisfaction)\n",
    "\n",
    "# Print the result\n",
    "print(\"Spearman's Rank Correlation Coefficient:\", spearman_corr_coefficient)\n"
   ]
  },
  {
   "cell_type": "code",
   "execution_count": 3,
   "id": "ab0dae3b-e34c-4e96-9e66-707461125256",
   "metadata": {},
   "outputs": [
    {
     "name": "stdout",
     "output_type": "stream",
     "text": [
      "Pearson Correlation Coefficient: 0.9732679729969012\n",
      "Spearman's Rank Correlation Coefficient: 0.9830569353356144\n"
     ]
    }
   ],
   "source": [
    "#3=\n",
    "import numpy as np\n",
    "from scipy.stats import pearsonr, spearmanr\n",
    "\n",
    "# Example data (replace with your actual data)\n",
    "exercise_hours = [3, 5, 2, 7, 4, 6, 3, 4, 2, 5, 1, 5, 6, 4, 3, 2, 5, 4, 7, 3, 6, 2, 4, 5, 3, 6, 7, 2, 4, 5, 3, 4, 2, 6, 1, 5, 4, 7, 2, 3, 6, 5, 4, 3, 2, 7, 6, 1, 4]\n",
    "bmi = [25, 28, 24, 30, 27, 29, 26, 27, 23, 28, 21, 29, 29, 26, 25, 22, 27, 26, 31, 25, 30, 24, 27, 28, 25, 29, 32, 24, 27, 28, 25, 27, 23, 30, 20, 29, 26, 31, 22, 25, 30, 28, 27, 25, 24, 32, 31, 22, 27]\n",
    "\n",
    "# Calculate Pearson correlation coefficient\n",
    "pearson_corr_coefficient, _ = pearsonr(exercise_hours, bmi)\n",
    "\n",
    "# Calculate Spearman's rank correlation coefficient\n",
    "spearman_corr_coefficient, _ = spearmanr(exercise_hours, bmi)\n",
    "\n",
    "# Print the results\n",
    "print(\"Pearson Correlation Coefficient:\", pearson_corr_coefficient)\n",
    "print(\"Spearman's Rank Correlation Coefficient:\", spearman_corr_coefficient)\n"
   ]
  },
  {
   "cell_type": "code",
   "execution_count": 4,
   "id": "394b6508-edea-4b86-b000-7156ce980d65",
   "metadata": {},
   "outputs": [
    {
     "name": "stdout",
     "output_type": "stream",
     "text": [
      "Pearson Correlation Coefficient: -0.9725975251592747\n"
     ]
    }
   ],
   "source": [
    "#4=\n",
    "import numpy as np\n",
    "from scipy.stats import pearsonr\n",
    "\n",
    "# Example data (replace with your actual data)\n",
    "tv_hours = [3, 2, 4, 5, 1, 6, 2, 3, 4, 5, 6, 1, 2, 3, 4, 5, 1, 6, 2, 3, 4, 5, 1, 6, 2, 3, 4, 5, 1, 6, 2, 3, 4, 5, 1, 6, 2, 3, 4, 5, 1, 6, 2, 3, 4, 5, 1, 6]\n",
    "physical_activity = [30, 45, 20, 15, 60, 10, 45, 30, 20, 15, 10, 60, 45, 30, 20, 15, 60, 10, 45, 30, 20, 15, 60, 10, 45, 30, 20, 15, 60, 10, 45, 30, 20, 15, 60, 10, 45, 30, 20, 15, 60, 10, 45, 30, 20, 15, 60, 10]\n",
    "\n",
    "# Calculate the Pearson correlation coefficient\n",
    "pearson_corr_coefficient, _ = pearsonr(tv_hours, physical_activity)\n",
    "\n",
    "# Print the result\n",
    "print(\"Pearson Correlation Coefficient:\", pearson_corr_coefficient)\n"
   ]
  },
  {
   "cell_type": "code",
   "execution_count": 8,
   "id": "3341fcdb-9681-4897-913d-16282109d9f2",
   "metadata": {},
   "outputs": [
    {
     "ename": "TypeError",
     "evalue": "cannot unpack non-iterable numpy.float64 object",
     "output_type": "error",
     "traceback": [
      "\u001b[0;31m---------------------------------------------------------------------------\u001b[0m",
      "\u001b[0;31mTypeError\u001b[0m                                 Traceback (most recent call last)",
      "Cell \u001b[0;32mIn[8], line 9\u001b[0m\n\u001b[1;32m      6\u001b[0m sales_per_week \u001b[38;5;241m=\u001b[39m [\u001b[38;5;241m60\u001b[39m, \u001b[38;5;241m70\u001b[39m, \u001b[38;5;241m50\u001b[39m, \u001b[38;5;241m55\u001b[39m, \u001b[38;5;241m65\u001b[39m, \u001b[38;5;241m85\u001b[39m, \u001b[38;5;241m75\u001b[39m, \u001b[38;5;241m80\u001b[39m, \u001b[38;5;241m60\u001b[39m, \u001b[38;5;241m55\u001b[39m, \u001b[38;5;241m70\u001b[39m, \u001b[38;5;241m50\u001b[39m, \u001b[38;5;241m55\u001b[39m, \u001b[38;5;241m80\u001b[39m, \u001b[38;5;241m85\u001b[39m, \u001b[38;5;241m65\u001b[39m, \u001b[38;5;241m60\u001b[39m, \u001b[38;5;241m70\u001b[39m, \u001b[38;5;241m50\u001b[39m, \u001b[38;5;241m55\u001b[39m, \u001b[38;5;241m65\u001b[39m, \u001b[38;5;241m85\u001b[39m, \u001b[38;5;241m75\u001b[39m, \u001b[38;5;241m80\u001b[39m, \u001b[38;5;241m60\u001b[39m, \u001b[38;5;241m55\u001b[39m, \u001b[38;5;241m70\u001b[39m, \u001b[38;5;241m50\u001b[39m, \u001b[38;5;241m55\u001b[39m, \u001b[38;5;241m80\u001b[39m]\n\u001b[1;32m      8\u001b[0m \u001b[38;5;66;03m# Calculate the Pearson correlation coefficient\u001b[39;00m\n\u001b[0;32m----> 9\u001b[0m pearson_corr_coefficient, _ \u001b[38;5;241m=\u001b[39m np\u001b[38;5;241m.\u001b[39mcorrcoef(sales_calls_per_day, sales_per_week)[\u001b[38;5;241m0\u001b[39m, \u001b[38;5;241m1\u001b[39m]\n\u001b[1;32m     11\u001b[0m \u001b[38;5;66;03m# Print the result\u001b[39;00m\n\u001b[1;32m     12\u001b[0m \u001b[38;5;28mprint\u001b[39m(\u001b[38;5;124m\"\u001b[39m\u001b[38;5;124mPearson Correlation Coefficient:\u001b[39m\u001b[38;5;124m\"\u001b[39m, pearson_corr_coefficient)\n",
      "\u001b[0;31mTypeError\u001b[0m: cannot unpack non-iterable numpy.float64 object"
     ]
    }
   ],
   "source": [
    "#6=\n",
    "import numpy as np\n",
    "\n",
    "# Example data (replace with your actual data)\n",
    "sales_calls_per_day = [10, 12, 8, 9, 11, 15, 13, 14, 10, 9, 12, 8, 9, 14, 15, 11, 10, 12, 8, 9, 11, 15, 13, 14, 10, 9, 12, 8, 9, 14]\n",
    "sales_per_week = [60, 70, 50, 55, 65, 85, 75, 80, 60, 55, 70, 50, 55, 80, 85, 65, 60, 70, 50, 55, 65, 85, 75, 80, 60, 55, 70, 50, 55, 80]\n",
    "\n",
    "# Calculate the Pearson correlation coefficient\n",
    "pearson_corr_coefficient, _ = np.corrcoef(sales_calls_per_day, sales_per_week)[0, 1]\n",
    "\n",
    "# Print the result\n",
    "print(\"Pearson Correlation Coefficient:\", pearson_corr_coefficient)\n",
    "\n"
   ]
  },
  {
   "cell_type": "code",
   "execution_count": null,
   "id": "cff45187-7714-4a0f-b93e-96bf808fb477",
   "metadata": {},
   "outputs": [],
   "source": []
  }
 ],
 "metadata": {
  "kernelspec": {
   "display_name": "Python 3 (ipykernel)",
   "language": "python",
   "name": "python3"
  },
  "language_info": {
   "codemirror_mode": {
    "name": "ipython",
    "version": 3
   },
   "file_extension": ".py",
   "mimetype": "text/x-python",
   "name": "python",
   "nbconvert_exporter": "python",
   "pygments_lexer": "ipython3",
   "version": "3.10.8"
  }
 },
 "nbformat": 4,
 "nbformat_minor": 5
}
